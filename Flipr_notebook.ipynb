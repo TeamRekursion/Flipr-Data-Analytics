{
  "nbformat": 4,
  "nbformat_minor": 0,
  "metadata": {
    "colab": {
      "name": "Flipr.ipynb",
      "provenance": []
    },
    "kernelspec": {
      "name": "python3",
      "display_name": "Python 3"
    }
  },
  "cells": [
    {
      "cell_type": "code",
      "metadata": {
        "id": "aygmKTSCyeFb"
      },
      "source": [
        "import pandas as pd\n",
        "import numpy as np"
      ],
      "execution_count": 1,
      "outputs": []
    },
    {
      "cell_type": "code",
      "metadata": {
        "id": "OQqo3Di-yt-X"
      },
      "source": [
        "df = pd.read_csv('covid19india.csv')"
      ],
      "execution_count": 2,
      "outputs": []
    },
    {
      "cell_type": "code",
      "metadata": {
        "id": "sqHaFR_ty_05",
        "outputId": "a7b104ff-8ebd-4936-c18f-80227213d0fc",
        "colab": {
          "base_uri": "https://localhost:8080/",
          "height": 462
        }
      },
      "source": [
        "df.head()"
      ],
      "execution_count": 3,
      "outputs": [
        {
          "output_type": "execute_result",
          "data": {
            "text/html": [
              "<div>\n",
              "<style scoped>\n",
              "    .dataframe tbody tr th:only-of-type {\n",
              "        vertical-align: middle;\n",
              "    }\n",
              "\n",
              "    .dataframe tbody tr th {\n",
              "        vertical-align: top;\n",
              "    }\n",
              "\n",
              "    .dataframe thead th {\n",
              "        text-align: right;\n",
              "    }\n",
              "</style>\n",
              "<table border=\"1\" class=\"dataframe\">\n",
              "  <thead>\n",
              "    <tr style=\"text-align: right;\">\n",
              "      <th></th>\n",
              "      <th>patientId</th>\n",
              "      <th>reportedOn</th>\n",
              "      <th>onsetEstimate</th>\n",
              "      <th>ageEstimate</th>\n",
              "      <th>gender</th>\n",
              "      <th>city</th>\n",
              "      <th>district</th>\n",
              "      <th>state</th>\n",
              "      <th>status</th>\n",
              "      <th>notes</th>\n",
              "      <th>contractedFrom</th>\n",
              "    </tr>\n",
              "  </thead>\n",
              "  <tbody>\n",
              "    <tr>\n",
              "      <th>0</th>\n",
              "      <td>1</td>\n",
              "      <td>30/01/2020</td>\n",
              "      <td>NaN</td>\n",
              "      <td>20</td>\n",
              "      <td>female</td>\n",
              "      <td>Thrissur</td>\n",
              "      <td>Thrissur</td>\n",
              "      <td>Kerala</td>\n",
              "      <td>Recovered</td>\n",
              "      <td>Travelled from Wuhan</td>\n",
              "      <td>NaN</td>\n",
              "    </tr>\n",
              "    <tr>\n",
              "      <th>1</th>\n",
              "      <td>2</td>\n",
              "      <td>02/02/2020</td>\n",
              "      <td>NaN</td>\n",
              "      <td>NaN</td>\n",
              "      <td>NaN</td>\n",
              "      <td>Alappuzha</td>\n",
              "      <td>Alappuzha</td>\n",
              "      <td>Kerala</td>\n",
              "      <td>Recovered</td>\n",
              "      <td>Travelled from Wuhan</td>\n",
              "      <td>NaN</td>\n",
              "    </tr>\n",
              "    <tr>\n",
              "      <th>2</th>\n",
              "      <td>3</td>\n",
              "      <td>03/02/2020</td>\n",
              "      <td>NaN</td>\n",
              "      <td>NaN</td>\n",
              "      <td>NaN</td>\n",
              "      <td>Kasaragod</td>\n",
              "      <td>Kasaragod</td>\n",
              "      <td>Kerala</td>\n",
              "      <td>Recovered</td>\n",
              "      <td>Travelled from Wuhan</td>\n",
              "      <td>NaN</td>\n",
              "    </tr>\n",
              "    <tr>\n",
              "      <th>3</th>\n",
              "      <td>4</td>\n",
              "      <td>02/03/2020</td>\n",
              "      <td>NaN</td>\n",
              "      <td>45</td>\n",
              "      <td>male</td>\n",
              "      <td>East Delhi (Mayur Vihar)</td>\n",
              "      <td>East Delhi</td>\n",
              "      <td>Delhi</td>\n",
              "      <td>Recovered</td>\n",
              "      <td>Travelled from Austria, Italy</td>\n",
              "      <td>NaN</td>\n",
              "    </tr>\n",
              "    <tr>\n",
              "      <th>4</th>\n",
              "      <td>5</td>\n",
              "      <td>02/03/2020</td>\n",
              "      <td>NaN</td>\n",
              "      <td>24</td>\n",
              "      <td>male</td>\n",
              "      <td>Hyderabad</td>\n",
              "      <td>Hyderabad</td>\n",
              "      <td>Telangana</td>\n",
              "      <td>Recovered</td>\n",
              "      <td>Travelled from Dubai to Bangalore on 20th Feb,...</td>\n",
              "      <td>NaN</td>\n",
              "    </tr>\n",
              "  </tbody>\n",
              "</table>\n",
              "</div>"
            ],
            "text/plain": [
              "   patientId  ... contractedFrom\n",
              "0          1  ...            NaN\n",
              "1          2  ...            NaN\n",
              "2          3  ...            NaN\n",
              "3          4  ...            NaN\n",
              "4          5  ...            NaN\n",
              "\n",
              "[5 rows x 11 columns]"
            ]
          },
          "metadata": {
            "tags": []
          },
          "execution_count": 3
        }
      ]
    },
    {
      "cell_type": "code",
      "metadata": {
        "id": "K7wc1vgAzrZm",
        "outputId": "d4bd98eb-a69c-4427-89d4-a4b0f7c1037d",
        "colab": {
          "base_uri": "https://localhost:8080/",
          "height": 68
        }
      },
      "source": [
        "df.columns"
      ],
      "execution_count": 4,
      "outputs": [
        {
          "output_type": "execute_result",
          "data": {
            "text/plain": [
              "Index(['patientId', 'reportedOn', 'onsetEstimate', 'ageEstimate', 'gender',\n",
              "       'city', 'district', 'state', 'status', 'notes', 'contractedFrom'],\n",
              "      dtype='object')"
            ]
          },
          "metadata": {
            "tags": []
          },
          "execution_count": 4
        }
      ]
    },
    {
      "cell_type": "markdown",
      "metadata": {
        "id": "61yZXT0SzcJN"
      },
      "source": [
        "We only need the following columns:\n",
        "\n",
        "​“patient id, reported on, age estimate,\n",
        "gender, state, status” \n",
        "\n",
        "Hence we will drop rest of the columns"
      ]
    },
    {
      "cell_type": "code",
      "metadata": {
        "id": "1CDmpAQBzXDb"
      },
      "source": [
        "df.drop(['onsetEstimate', 'city', 'district', 'notes', 'contractedFrom'], inplace = True, axis = 1)"
      ],
      "execution_count": 5,
      "outputs": []
    },
    {
      "cell_type": "code",
      "metadata": {
        "id": "ZpSr0oWbzbJ9",
        "outputId": "5defbbe7-1350-4acf-8df7-aeaf76ffd615",
        "colab": {
          "base_uri": "https://localhost:8080/",
          "height": 204
        }
      },
      "source": [
        "df.head()"
      ],
      "execution_count": 6,
      "outputs": [
        {
          "output_type": "execute_result",
          "data": {
            "text/html": [
              "<div>\n",
              "<style scoped>\n",
              "    .dataframe tbody tr th:only-of-type {\n",
              "        vertical-align: middle;\n",
              "    }\n",
              "\n",
              "    .dataframe tbody tr th {\n",
              "        vertical-align: top;\n",
              "    }\n",
              "\n",
              "    .dataframe thead th {\n",
              "        text-align: right;\n",
              "    }\n",
              "</style>\n",
              "<table border=\"1\" class=\"dataframe\">\n",
              "  <thead>\n",
              "    <tr style=\"text-align: right;\">\n",
              "      <th></th>\n",
              "      <th>patientId</th>\n",
              "      <th>reportedOn</th>\n",
              "      <th>ageEstimate</th>\n",
              "      <th>gender</th>\n",
              "      <th>state</th>\n",
              "      <th>status</th>\n",
              "    </tr>\n",
              "  </thead>\n",
              "  <tbody>\n",
              "    <tr>\n",
              "      <th>0</th>\n",
              "      <td>1</td>\n",
              "      <td>30/01/2020</td>\n",
              "      <td>20</td>\n",
              "      <td>female</td>\n",
              "      <td>Kerala</td>\n",
              "      <td>Recovered</td>\n",
              "    </tr>\n",
              "    <tr>\n",
              "      <th>1</th>\n",
              "      <td>2</td>\n",
              "      <td>02/02/2020</td>\n",
              "      <td>NaN</td>\n",
              "      <td>NaN</td>\n",
              "      <td>Kerala</td>\n",
              "      <td>Recovered</td>\n",
              "    </tr>\n",
              "    <tr>\n",
              "      <th>2</th>\n",
              "      <td>3</td>\n",
              "      <td>03/02/2020</td>\n",
              "      <td>NaN</td>\n",
              "      <td>NaN</td>\n",
              "      <td>Kerala</td>\n",
              "      <td>Recovered</td>\n",
              "    </tr>\n",
              "    <tr>\n",
              "      <th>3</th>\n",
              "      <td>4</td>\n",
              "      <td>02/03/2020</td>\n",
              "      <td>45</td>\n",
              "      <td>male</td>\n",
              "      <td>Delhi</td>\n",
              "      <td>Recovered</td>\n",
              "    </tr>\n",
              "    <tr>\n",
              "      <th>4</th>\n",
              "      <td>5</td>\n",
              "      <td>02/03/2020</td>\n",
              "      <td>24</td>\n",
              "      <td>male</td>\n",
              "      <td>Telangana</td>\n",
              "      <td>Recovered</td>\n",
              "    </tr>\n",
              "  </tbody>\n",
              "</table>\n",
              "</div>"
            ],
            "text/plain": [
              "   patientId  reportedOn ageEstimate  gender      state     status\n",
              "0          1  30/01/2020          20  female     Kerala  Recovered\n",
              "1          2  02/02/2020         NaN     NaN     Kerala  Recovered\n",
              "2          3  03/02/2020         NaN     NaN     Kerala  Recovered\n",
              "3          4  02/03/2020          45    male      Delhi  Recovered\n",
              "4          5  02/03/2020          24    male  Telangana  Recovered"
            ]
          },
          "metadata": {
            "tags": []
          },
          "execution_count": 6
        }
      ]
    },
    {
      "cell_type": "code",
      "metadata": {
        "id": "whWe2QB34Icg"
      },
      "source": [
        "df_columns = df.columns.to_list()"
      ],
      "execution_count": 7,
      "outputs": []
    },
    {
      "cell_type": "code",
      "metadata": {
        "id": "FSoy9aoOQJm4",
        "outputId": "3f1dde40-9ec3-4bc7-e6ce-dcd63c3b6189",
        "colab": {
          "base_uri": "https://localhost:8080/",
          "height": 136
        }
      },
      "source": [
        "df.isnull().sum()"
      ],
      "execution_count": 8,
      "outputs": [
        {
          "output_type": "execute_result",
          "data": {
            "text/plain": [
              "patientId          0\n",
              "reportedOn         0\n",
              "ageEstimate    25545\n",
              "gender         22578\n",
              "state              1\n",
              "status             0\n",
              "dtype: int64"
            ]
          },
          "metadata": {
            "tags": []
          },
          "execution_count": 8
        }
      ]
    },
    {
      "cell_type": "markdown",
      "metadata": {
        "id": "JX1dLBCgQzLX"
      },
      "source": [
        "We can see that most of null values are in the columns 'ageEstimate' and 'Gender'. The number of null values are also pretty huge so we can't drop these values but in contrast the number of null values in state is 1, we can drop that particular row.\n",
        "\n",
        "Dropping that particular row"
      ]
    },
    {
      "cell_type": "code",
      "metadata": {
        "id": "pQAF1Lr1QyW1"
      },
      "source": [
        "df.dropna(axis = 0, subset = ['state'], inplace = True)"
      ],
      "execution_count": 9,
      "outputs": []
    },
    {
      "cell_type": "code",
      "metadata": {
        "id": "W3eGFM8YSOSZ",
        "outputId": "fdad42e2-f6a0-439f-8f17-503bbac464a0",
        "colab": {
          "base_uri": "https://localhost:8080/",
          "height": 68
        }
      },
      "source": [
        "df['gender'].value_counts()"
      ],
      "execution_count": 10,
      "outputs": [
        {
          "output_type": "execute_result",
          "data": {
            "text/plain": [
              "male      3547\n",
              "female    1766\n",
              "Name: gender, dtype: int64"
            ]
          },
          "metadata": {
            "tags": []
          },
          "execution_count": 10
        }
      ]
    },
    {
      "cell_type": "code",
      "metadata": {
        "id": "3tohGbb_p9Ma",
        "outputId": "75e25298-77a4-44c9-e63b-3f7ea95f4b6c",
        "colab": {
          "base_uri": "https://localhost:8080/",
          "height": 136
        }
      },
      "source": [
        "df.isnull().sum()"
      ],
      "execution_count": 11,
      "outputs": [
        {
          "output_type": "execute_result",
          "data": {
            "text/plain": [
              "patientId          0\n",
              "reportedOn         0\n",
              "ageEstimate    25544\n",
              "gender         22577\n",
              "state              0\n",
              "status             0\n",
              "dtype: int64"
            ]
          },
          "metadata": {
            "tags": []
          },
          "execution_count": 11
        }
      ]
    },
    {
      "cell_type": "code",
      "metadata": {
        "id": "pVSBwHWCSvwa",
        "outputId": "f7eb9b4d-09f4-4b35-cf44-31bd6178d511",
        "colab": {
          "base_uri": "https://localhost:8080/",
          "height": 34
        }
      },
      "source": [
        "ratio_of_male_to_female = df['gender'].value_counts().values[0] / df['gender'].value_counts().values[1]\n",
        "print(\"Ratio of number of males to female given is\", round(ratio_of_male_to_female, 2))"
      ],
      "execution_count": 12,
      "outputs": [
        {
          "output_type": "stream",
          "text": [
            "Ratio of number of males to female given is 2.01\n"
          ],
          "name": "stdout"
        }
      ]
    },
    {
      "cell_type": "code",
      "metadata": {
        "id": "5p9WdGOWVXcR"
      },
      "source": [
        "import random\n",
        "while(df['gender'].isnull().sum() != 0):\n",
        "    df['gender'].fillna(random.randint(0, 1),inplace = True, limit = 1)"
      ],
      "execution_count": 13,
      "outputs": []
    },
    {
      "cell_type": "code",
      "metadata": {
        "id": "OHg42M-cWS-3",
        "outputId": "9793af8a-4703-46b1-857d-457e38fd96d5",
        "colab": {
          "base_uri": "https://localhost:8080/",
          "height": 102
        }
      },
      "source": [
        "df['gender'].value_counts()"
      ],
      "execution_count": 14,
      "outputs": [
        {
          "output_type": "execute_result",
          "data": {
            "text/plain": [
              "0         11308\n",
              "1         11269\n",
              "male       3547\n",
              "female     1766\n",
              "Name: gender, dtype: int64"
            ]
          },
          "metadata": {
            "tags": []
          },
          "execution_count": 14
        }
      ]
    },
    {
      "cell_type": "code",
      "metadata": {
        "id": "FBczs0fHWiJQ"
      },
      "source": [
        "gender = {0 : 'Male', 1 : 'Female', 'male' : 'Male', 'female' : 'Female' }\n",
        "df['gender'] = df['gender'].map(gender)"
      ],
      "execution_count": 15,
      "outputs": []
    },
    {
      "cell_type": "code",
      "metadata": {
        "id": "ppLaBN5PXtAM",
        "outputId": "12ebb977-67f6-46e0-b924-e72c12cc7e56",
        "colab": {
          "base_uri": "https://localhost:8080/",
          "height": 68
        }
      },
      "source": [
        "df['gender'].value_counts()"
      ],
      "execution_count": 16,
      "outputs": [
        {
          "output_type": "execute_result",
          "data": {
            "text/plain": [
              "Male      14855\n",
              "Female    13035\n",
              "Name: gender, dtype: int64"
            ]
          },
          "metadata": {
            "tags": []
          },
          "execution_count": 16
        }
      ]
    },
    {
      "cell_type": "code",
      "metadata": {
        "id": "jLz4IHDxXvGh",
        "outputId": "4ddeb4f8-b4ed-4819-e97a-b1dab15f0e9a",
        "colab": {
          "base_uri": "https://localhost:8080/",
          "height": 136
        }
      },
      "source": [
        "df.isnull().sum()"
      ],
      "execution_count": 17,
      "outputs": [
        {
          "output_type": "execute_result",
          "data": {
            "text/plain": [
              "patientId          0\n",
              "reportedOn         0\n",
              "ageEstimate    25544\n",
              "gender             0\n",
              "state              0\n",
              "status             0\n",
              "dtype: int64"
            ]
          },
          "metadata": {
            "tags": []
          },
          "execution_count": 17
        }
      ]
    },
    {
      "cell_type": "code",
      "metadata": {
        "id": "Sz9LJmW80ixC",
        "outputId": "02c43dcb-7814-4a01-83c5-c23fd76f2f89",
        "colab": {
          "base_uri": "https://localhost:8080/",
          "height": 34
        }
      },
      "source": [
        "df.shape"
      ],
      "execution_count": 18,
      "outputs": [
        {
          "output_type": "execute_result",
          "data": {
            "text/plain": [
              "(27890, 6)"
            ]
          },
          "metadata": {
            "tags": []
          },
          "execution_count": 18
        }
      ]
    },
    {
      "cell_type": "code",
      "metadata": {
        "id": "YGNZDBv50IBy"
      },
      "source": [
        "test = df.copy()"
      ],
      "execution_count": 19,
      "outputs": []
    },
    {
      "cell_type": "code",
      "metadata": {
        "id": "w8z6d_Hq1imp",
        "outputId": "9ae796c4-7262-4ca4-f8b2-f9c7fb0dc6b8",
        "colab": {
          "base_uri": "https://localhost:8080/",
          "height": 34
        }
      },
      "source": [
        "test.shape"
      ],
      "execution_count": 20,
      "outputs": [
        {
          "output_type": "execute_result",
          "data": {
            "text/plain": [
              "(27890, 6)"
            ]
          },
          "metadata": {
            "tags": []
          },
          "execution_count": 20
        }
      ]
    },
    {
      "cell_type": "code",
      "metadata": {
        "id": "y2iF_1V-1mTb",
        "outputId": "06ba4fae-1255-4a87-885c-25cca2da1da9",
        "colab": {
          "base_uri": "https://localhost:8080/",
          "height": 34
        }
      },
      "source": [
        "df.shape"
      ],
      "execution_count": 21,
      "outputs": [
        {
          "output_type": "execute_result",
          "data": {
            "text/plain": [
              "(27890, 6)"
            ]
          },
          "metadata": {
            "tags": []
          },
          "execution_count": 21
        }
      ]
    },
    {
      "cell_type": "code",
      "metadata": {
        "id": "QNalA-pxvlDO"
      },
      "source": [
        "to_be_dropped = df['ageEstimate'].isnull()"
      ],
      "execution_count": 22,
      "outputs": []
    },
    {
      "cell_type": "code",
      "metadata": {
        "id": "kX7mj7Ls1rK4",
        "outputId": "30687bb0-6705-4a76-eaed-ccbde02e11a2",
        "colab": {
          "base_uri": "https://localhost:8080/",
          "height": 34
        }
      },
      "source": [
        "to_be_dropped.shape"
      ],
      "execution_count": 23,
      "outputs": [
        {
          "output_type": "execute_result",
          "data": {
            "text/plain": [
              "(27890,)"
            ]
          },
          "metadata": {
            "tags": []
          },
          "execution_count": 23
        }
      ]
    },
    {
      "cell_type": "code",
      "metadata": {
        "id": "zf8eVxYcvyiY"
      },
      "source": [
        "df.dropna(axis = 0, subset = ['ageEstimate'], inplace = True)"
      ],
      "execution_count": 24,
      "outputs": []
    },
    {
      "cell_type": "code",
      "metadata": {
        "id": "4pqGMH811xr6",
        "outputId": "22d17025-663a-427a-c358-d81b7d119890",
        "colab": {
          "base_uri": "https://localhost:8080/",
          "height": 34
        }
      },
      "source": [
        "df.shape"
      ],
      "execution_count": 25,
      "outputs": [
        {
          "output_type": "execute_result",
          "data": {
            "text/plain": [
              "(2346, 6)"
            ]
          },
          "metadata": {
            "tags": []
          },
          "execution_count": 25
        }
      ]
    },
    {
      "cell_type": "code",
      "metadata": {
        "id": "eJ5qwegF1z_e",
        "outputId": "86f8886c-74ff-4e94-82c9-21fe752d0999",
        "colab": {
          "base_uri": "https://localhost:8080/",
          "height": 34
        }
      },
      "source": [
        "test.shape"
      ],
      "execution_count": 26,
      "outputs": [
        {
          "output_type": "execute_result",
          "data": {
            "text/plain": [
              "(27890, 6)"
            ]
          },
          "metadata": {
            "tags": []
          },
          "execution_count": 26
        }
      ]
    },
    {
      "cell_type": "code",
      "metadata": {
        "id": "uRjmjiG4hlmm",
        "outputId": "2a56c035-463e-432b-babb-ae4989c06219",
        "colab": {
          "base_uri": "https://localhost:8080/",
          "height": 34
        }
      },
      "source": [
        "print(type(list(df['ageEstimate'])[0]))"
      ],
      "execution_count": 27,
      "outputs": [
        {
          "output_type": "stream",
          "text": [
            "<class 'str'>\n"
          ],
          "name": "stdout"
        }
      ]
    },
    {
      "cell_type": "markdown",
      "metadata": {
        "id": "K5x-DlXodFyD"
      },
      "source": [
        "As the values for ageEstimate is a string and not integer, we won't be able to take mean, hence we need to convert to integer"
      ]
    },
    {
      "cell_type": "code",
      "metadata": {
        "id": "mHOB5GT4i1TP"
      },
      "source": [
        "age = list(df['ageEstimate'])\n",
        "for i in range(len(age)):\n",
        "  if age[i] == '28-35': #There is a value of '28-35', which will cause problem while converting to float.\n",
        "    age[i] = '30'\n",
        "  age[i] = float(age[i])"
      ],
      "execution_count": 28,
      "outputs": []
    },
    {
      "cell_type": "code",
      "metadata": {
        "id": "x1XyCA-mwGEt",
        "outputId": "b2fc8a09-bc66-427e-b559-c461fac0246c",
        "colab": {
          "base_uri": "https://localhost:8080/",
          "height": 34
        }
      },
      "source": [
        "age_mean = round(np.mean(age))\n",
        "age_mean"
      ],
      "execution_count": 29,
      "outputs": [
        {
          "output_type": "execute_result",
          "data": {
            "text/plain": [
              "38.0"
            ]
          },
          "metadata": {
            "tags": []
          },
          "execution_count": 29
        }
      ]
    },
    {
      "cell_type": "code",
      "metadata": {
        "id": "DwXGEgf8t-gW"
      },
      "source": [
        "t = 0\n",
        "\n",
        "dropped_age = list(to_be_dropped.values)\n",
        "for i in range(0, len(dropped_age)):\n",
        "  dropped_age[i] = str(dropped_age[i])\n",
        "  if dropped_age[i] == 'False':\n",
        "    dropped_age[i] = age[t]\n",
        "    t += 1\n",
        "    \n",
        "  if dropped_age[i] == 'True':\n",
        "    dropped_age[i] = age_mean"
      ],
      "execution_count": 30,
      "outputs": []
    },
    {
      "cell_type": "markdown",
      "metadata": {
        "id": "Lp4h1tzfo1OI"
      },
      "source": [
        "Joining the to_be_dropped table back with original table"
      ]
    },
    {
      "cell_type": "code",
      "metadata": {
        "id": "zv3ZMVkhpg-U",
        "outputId": "3d08f065-3a43-46fa-9eb6-1494b8a2a315",
        "colab": {
          "base_uri": "https://localhost:8080/",
          "height": 34
        }
      },
      "source": [
        "len(dropped_age)"
      ],
      "execution_count": 31,
      "outputs": [
        {
          "output_type": "execute_result",
          "data": {
            "text/plain": [
              "27890"
            ]
          },
          "metadata": {
            "tags": []
          },
          "execution_count": 31
        }
      ]
    },
    {
      "cell_type": "code",
      "metadata": {
        "id": "yOJsYKNdsUzq",
        "outputId": "2a996ac0-54fe-48a1-c5e5-fc9c326d9107",
        "colab": {
          "base_uri": "https://localhost:8080/",
          "height": 34
        }
      },
      "source": [
        "test.shape"
      ],
      "execution_count": 32,
      "outputs": [
        {
          "output_type": "execute_result",
          "data": {
            "text/plain": [
              "(27890, 6)"
            ]
          },
          "metadata": {
            "tags": []
          },
          "execution_count": 32
        }
      ]
    },
    {
      "cell_type": "code",
      "metadata": {
        "id": "Pe58gr5m0dLZ"
      },
      "source": [
        "test['ageEstimate'] = pd.Series(dropped_age)"
      ],
      "execution_count": 33,
      "outputs": []
    },
    {
      "cell_type": "code",
      "metadata": {
        "id": "heCipRF43Hl-"
      },
      "source": [
        "test.dropna(inplace = True)"
      ],
      "execution_count": 34,
      "outputs": []
    },
    {
      "cell_type": "code",
      "metadata": {
        "id": "OLEPA3Lv3I5_",
        "outputId": "faf30cfc-7a76-4500-cae1-99e8a3dd9394",
        "colab": {
          "base_uri": "https://localhost:8080/",
          "height": 136
        }
      },
      "source": [
        "test.isnull().sum()"
      ],
      "execution_count": 35,
      "outputs": [
        {
          "output_type": "execute_result",
          "data": {
            "text/plain": [
              "patientId      0\n",
              "reportedOn     0\n",
              "ageEstimate    0\n",
              "gender         0\n",
              "state          0\n",
              "status         0\n",
              "dtype: int64"
            ]
          },
          "metadata": {
            "tags": []
          },
          "execution_count": 35
        }
      ]
    },
    {
      "cell_type": "code",
      "metadata": {
        "id": "Q8Sc4Qs03aY6"
      },
      "source": [
        "test.to_csv('finalcovid19india.csv')"
      ],
      "execution_count": 36,
      "outputs": []
    }
  ]
}